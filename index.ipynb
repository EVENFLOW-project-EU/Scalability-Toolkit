{
  "cells": [
    {
      "cell_type": "markdown",
      "metadata": {
        "id": "0SgXP35IcMoL"
      },
      "source": [
        "# <h1 style=\"text-align: center;\">And Synopses for All: a Synopses Data Engine for Extreme Scale Analytics-as-a-Service</h1>\n",
        "\n",
        "---"
      ]
    },
    {
      "attachments": {},
      "cell_type": "markdown",
      "metadata": {},
      "source": [
        "<style type=\"text/css\">\n",
        ".tg  {border-collapse:collapse;border-spacing:0;}\n",
        ".tg td{border-color:black;border-style:solid;border-width:0px;font-family:Arial, sans-serif;font-size:14px;\n",
        "  overflow:hidden;padding:10px 5px;word-break:normal;}\n",
        ".tg th{border-color:black;border-style:solid;border-width:1px;font-family:Arial, sans-serif;font-size:14px;\n",
        "  font-weight:normal;overflow:hidden;padding:10px 5px;word-break:normal;}\n",
        ".tg .tg-0pky{border-color:inherit;text-align:center;vertical-align:top}\n",
        ".tg {\n",
        "  margin-left: auto;\n",
        "  margin-right: auto;\n",
        "}\n",
        "</style>\n",
        "<table class=\"tg\">\n",
        "<tbody>\n",
        "  <tr>\n",
        "    <td class=\"tg-0pky\">\n",
        "    <div class=\"large-2 large-push-2 columns\" style=\"text-align:center;\">\n",
        "        <a href=\"#\">\n",
        "            <img class=\"t0\" width=\"40\" src=\"images\\elsevier-icon.png\" alt=\"Paper\">\n",
        "            <div style=\"text-align:center; margin: 0 0 0 0; font-size: 0.8em;\">IS Paper (Under Review)</div>\n",
        "        </a>\n",
        "    </div>\n",
        "    </td>\n",
        "    <td class=\"tg-0pky\"></td>\n",
        "    <td class=\"tg-0pky\"></td>\n",
        "    <td class=\"tg-0pky\">\n",
        "    <div class=\"large-2 large-push-2 columns\" style=\"text-align:center;\">\n",
        "        <a href=\"https://dl.acm.org/doi/10.1145/3340531.3412154\">\n",
        "            <img class=\"t0\" width=\"40\" src=\"images\\acm-icon.png\" alt=\"Technical report\">\n",
        "            <div style=\"text-align:center; margin: 0 0 0 0; font-size: 0.8em;\">CIKM'20 Short Paper</div>\n",
        "        </a>\n",
        "    </div>\n",
        "    </td>\n",
        "    <td class=\"tg-0pky\"></td>\n",
        "    <td class=\"tg-0pky\"></td>\n",
        "    <td class=\"tg-0pky\">\n",
        "    <div class=\"large-2 large-push-2 columns\" style=\"text-align:center;\">\n",
        "        <a href=\"docs\\bib.md\">\n",
        "            <img class=\"t0\" width=\"40\" src=\"images\\bibtex-icon.png\" alt=\"Bibtex\">\n",
        "            <div style=\"text-align:center; margin: 0 0 0 0; font-size: 0.8em;\">Cite as</div>\n",
        "        </a>   \n",
        "    </div>\n",
        "    </td>\n",
        "    <td class=\"tg-0pky\"></td>\n",
        "    <td class=\"tg-0pky\"></td>\n",
        "    <td class=\"tg-0pky\">\n",
        "    <div class=\"large-2 large-push-2 columns\" style=\"text-align:center;\">\n",
        "        <a href=\"https://github.com/akontaxakis/SDE\">\n",
        "            <img class=\"t0\" width=\"40\" src=\"images\\github-icon.png\" alt=\"Source code\">\n",
        "            <div style=\"text-align:center; margin: 0 0 0 0; font-size: 0.8em;\">Source code</div>\n",
        "        </a>\n",
        "    </div>\n",
        "    </td>\n",
        "    <td class=\"tg-0pky\"></td>\n",
        "    <td class=\"tg-0pky\">\n",
        "    <div class=\"large-2 large-push-2 columns\" style=\"text-align:center;\">\n",
        "        <a href=\"slides\\SDE_CIKM2020.pptx\">\n",
        "            <img class=\"t0\" width=\"40\" src=\"images\\pptx-icon.png\" alt=\"CIKM'20 Presentation\">\n",
        "            <div style=\"text-align:center; margin: 0 0 0 0; font-size: 0.8em;\">CIKM'20 Presentation</div>\n",
        "        </a>\n",
        "    </div>\n",
        "    </td>\n",
        "  </tr>\n",
        "</tbody>\n",
        "</table>"
      ]
    },
    {
      "attachments": {},
      "cell_type": "markdown",
      "metadata": {},
      "source": [
        "<hr>"
      ]
    },
    {
      "attachments": {},
      "cell_type": "markdown",
      "metadata": {},
      "source": [
        "# Introduction"
      ]
    },
    {
      "attachments": {},
      "cell_type": "markdown",
      "metadata": {},
      "source": [
        "<p align=\"justify\"> In this work, we detail the design and structure of a Synopses Data Engine (SDE) which combines the virtues of parallel processing and stream summarization towards delivering interactive analytics at extreme scale. Our SDE is built on top of Apache Flink and implements a novel synopsis-as-a-service (SDEaaS) paradigm. In that, it achieves (i) concurrently maintaining thousands of synopses of various types for thousands of streams, on demand, (ii) reusing synopses that are common across various concurrent workflows, (iii) providing data summarization facilities even for cross-(Big Data) platform workflows, (iv) pluggability of new synopses on-the-fly,\n",
        "(v) increased potential for workflow execution optimization. The proposed SDE-as-a-service provides interactive analytics at scale by enabling 3 types of scalability: (i) enhanced horizontal scalability, i.e., not only scaling out the computation to a number of processing units available in a computer cluster, but also harnessing the processing load assigned to each by operating on carefully-crafted data summaries, (ii) vertical scalability, i.e., scaling the computation to very high numbers of processed streams and (iii) federated scalability i.e., scaling across geo-distributed clusters and clouds by controlling the communication required to answer global queries.</p>\n",
        "\n",
        "<p align=\"justify\"> Our SDEaaS design (i) is already incorporated in a commercial analytics\n",
        "platform [3], namely RapidMiner Studio, (ii) is available open-source [4] and (iii) has been put into production in\n",
        "various real-world applications [5][6].<p>"
      ]
    },
    {
      "attachments": {},
      "cell_type": "markdown",
      "metadata": {},
      "source": [
        "# Synopses Data Engine-as-a-Service (SDEaaS) Architecture"
      ]
    },
    {
      "attachments": {},
      "cell_type": "markdown",
      "metadata": {},
      "source": [
        "<p align=\"justify\">SDEaaS proof-of-concept implementation is based on Apache Kafka and Flink. The SDEaaS operates as shown in the figure below:</p>\n",
        "<p align=\"justify\">When a request for maintaining a new synopsis is issued, it reaches the ``RegisterRequest`` and ``RegisterSynopsis`` FlatMaps which produce keys for workers (i.e., VM resources) which will handle this synopsis. Each of this pair of FlatMaps uses these keys for a different purpose as explained below.</p>"
      ]
    },
    {
      "attachments": {},
      "cell_type": "markdown",
      "metadata": {},
      "source": [
        "<img class=\"t0\" width=\"80%\" src=\"images\\overview.png\" alt=\"Overview\">"
      ]
    },
    {
      "attachments": {},
      "cell_type": "markdown",
      "metadata": {},
      "source": [
        "<p align=\"justify\">``RegisterRequest`` uses the keys to direct queries to responsible workers, while ``RegisterSynopsis`` uses the\n",
        "keys to update the synopses on new data arrivals (blue-coloured path). In particular, when a new streaming data tuple is ingested, the ``HashData`` FlatMap looks up the keys of ``RegisterSynopsis`` to see to which workers the tuple should be directed to update the synopsis. This update is performed by the ``add`` FlatMap in the blue-coloured path. The rest of the operators the figure are used for merging partial synopses results maintained across workers or even across geo-distributed computer clusters. Please refer to [1][2] for further details. </p>"
      ]
    },
    {
      "attachments": {},
      "cell_type": "markdown",
      "metadata": {},
      "source": [
        "# Source Code"
      ]
    },
    {
      "attachments": {},
      "cell_type": "markdown",
      "metadata": {},
      "source": [
        "The Source code of SDEaaS is available here: https://github.com/akontaxakis/SDE along with a SDE client: https://github.com/akontaxakis/SDE/tree/master/a-client-for-the-synopsis-data-engine to facilitate issuing requests and integration in broader, even cross-Big Data platform, workflows [6]."
      ]
    },
    {
      "attachments": {},
      "cell_type": "markdown",
      "metadata": {},
      "source": [
        "# News"
      ]
    },
    {
      "attachments": {},
      "cell_type": "markdown",
      "metadata": {},
      "source": [
        "- SDEaaS is included in the EU Innovation Radar: https://www.innoradar.eu/innovation/46551 "
      ]
    },
    {
      "attachments": {},
      "cell_type": "markdown",
      "metadata": {},
      "source": [
        "# References\n",
        "\n",
        "[1] Antonios Kontaxakis, Nikos Giatrakos, Dimitris Sacharidis, Antonios Deligiannakis: *And Synopses for All: a Synopses Data Engine for Extreme Scale Analytics-as-a-Service*, Inf. Syst, (Under Review)\n",
        "\n",
        "[2] Antonios Kontaxakis, Nikos Giatrakos, Antonios Deligiannakis: *A Synopses Data Engine for Interactive Extreme-Scale Analytics.*, CIKM 2020: 2085-2088\n",
        "\n",
        "[3] Rapidminer studio, streaming extension, https://marketplace.rapidminer.com/UpdateServer/faces/product_details.xhtml?productId=rmx_streaming\n",
        "\n",
        "[4] https://github.com/akontaxakis/SDE \n",
        "\n",
        "[5] Marios Vodas, Konstantina Bereta, Dimitris Kladis, Dimitris Zissis, Elias Alevizos, Emmanouil Ntoulias, Alexander Artikis, Antonios Deligiannakis, Antonios Kontaxakis, Nikos Giatrakos, David Arnu, Edwin Yaqub, Fabian Temme, Mate Torok, Ralf Klinkenberg:\n",
        "*Online Distributed Maritime Event Detection & Forecasting over Big Vessel Tracking Data.* IEEE BigData 2021: 2052-2057\n",
        "\n",
        "[6] George Stamatakis, Antonis Kontaxakis, Alkis Simitsis, Nikos Giatrakos, Antonios Deligiannakis:\n",
        "*SheerMP: Optimized Streaming Analytics-as-a-Service over Multi-site and Multi-platform Settings.* EDBT 2022: 2:558-2:561"
      ]
    },
    {
      "attachments": {},
      "cell_type": "markdown",
      "metadata": {},
      "source": [
        "### © Antonios Kontaxakis, Nikos Giatrakos, Dimitris Sacharidis, Antonios Deligiannakis 2023 - 2028"
      ]
    },
    {
      "attachments": {},
      "cell_type": "markdown",
      "metadata": {},
      "source": [
        "# Acknowledgements"
      ]
    },
    {
      "attachments": {},
      "cell_type": "markdown",
      "metadata": {},
      "source": [
        "<style type=\"text/css\">\n",
        ".tg  {border-collapse:collapse;border-spacing:0;}\n",
        ".tg td{border-color:black;border-style:solid;border-width:0px;font-family:Arial, sans-serif;font-size:14px;\n",
        "  overflow:hidden;padding:10px 5px;word-break:normal;}\n",
        ".tg th{border-color:black;border-style:solid;border-width:1px;font-family:Arial, sans-serif;font-size:14px;\n",
        "  font-weight:normal;overflow:hidden;padding:10px 5px;word-break:normal;}\n",
        ".tg .tg-0pky{border-color:inherit;text-align:center;vertical-align:top}\n",
        ".tg {\n",
        "  margin-left: auto;\n",
        "  margin-right: auto;\n",
        "}\n",
        "</style>\n",
        "<table class=\"tg\">\n",
        "<tbody>\n",
        "  <tr>\n",
        "    <td class=\"tg-0pky\">\n",
        "    <div class=\"large-2 large-push-2 columns\" style=\"text-align:center;\">\n",
        "        <a href=\"#\">\n",
        "            <img class=\"t0\" width=\"40\" src=\"acks\\eu_logo_s.png\" alt=\"Paper\">\n",
        "        </a>\n",
        "    </div>\n",
        "    </td>\n",
        "    <td class=\"tg-0pky\">\n",
        "    <div class=\"large-2 large-push-2 columns\" style=\"text-align:center;\">\n",
        "        <a href=\"https://infore-project.eu/\">\n",
        "            <img class=\"t0\" width=\"200\" src=\"acks\\INFORE-logo.svg\" alt=\"Technical report\">\n",
        "            <div style=\"text-align:center; margin: 0 0 0 0; font-size: 0.8em;\">INFORE</div>\n",
        "        </a>\n",
        "    </div>\n",
        "    </td>\n",
        "    <td class=\"tg-0pky\">\n",
        "    <div class=\"large-2 large-push-2 columns\" style=\"text-align:center;\">\n",
        "        <a href=\"https://deds.ulb.ac.be/\">\n",
        "            <img class=\"t0\" width=\"40\" src=\"acks\\deds.png\" alt=\"Technical report\">\n",
        "            <div style=\"text-align:center; margin: 0 0 0 0; font-size: 0.8em;\">DEDS</div>\n",
        "        </a>\n",
        "    </div>\n",
        "    </td>\n",
        "    <td class=\"tg-0pky\">\n",
        "    <div class=\"large-2 large-push-2 columns\" style=\"text-align:center;\">\n",
        "        <a href=\"https://evenflow-project.eu/\">\n",
        "            <img class=\"t0\" width=\"100\" src=\"acks\\evenflow_logo.png\" alt=\"Bibtex\">\n",
        "            <div style=\"text-align:center; margin: 0 0 0 0; font-size: 0.8em;\">EVENFLOW</div>\n",
        "        </a>   \n",
        "    </div>\n",
        "    </td>\n",
        "    <td class=\"tg-0pky\">\n",
        "    <div class=\"large-2 large-push-2 columns\" style=\"text-align:center;\">\n",
        "        <a href=\"https://crexdata.eu/\">\n",
        "            <img class=\"t0\" width=\"100\" src=\"acks\\crexdata-logo.svg\" alt=\"Source code\">\n",
        "            <div style=\"text-align:center; margin: 0 0 0 0; font-size: 0.8em;\">CREXDATA</div>\n",
        "        </a>\n",
        "    </div>\n",
        "    </td>\n",
        "    <td class=\"tg-0pky\">\n",
        "    <div class=\"large-2 large-push-2 columns\" style=\"text-align:center;\">\n",
        "        <a href=\"https://stelar-project.eu/\">\n",
        "            <img class=\"t0\" width=\"40\" src=\"acks\\Logo-Stelar-1-f.png\" alt=\"CIKM'20 Presentation\">\n",
        "            <div style=\"text-align:center; margin: 0 0 0 0; font-size: 0.8em;\">STELAR</div>\n",
        "        </a>\n",
        "    </div>\n",
        "    </td>\n",
        "  </tr>\n",
        "</tbody>\n",
        "</table>"
      ]
    }
  ],
  "metadata": {
    "colab": {
      "provenance": []
    },
    "kernelspec": {
      "display_name": "Python 3",
      "name": "python3"
    },
    "language_info": {
      "codemirror_mode": {
        "name": "ipython",
        "version": 3
      },
      "file_extension": ".py",
      "mimetype": "text/x-python",
      "name": "python",
      "nbconvert_exporter": "python",
      "pygments_lexer": "ipython3",
      "version": "3.11.3"
    }
  },
  "nbformat": 4,
  "nbformat_minor": 0
}
